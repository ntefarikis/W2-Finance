{
  "nbformat": 4,
  "nbformat_minor": 0,
  "metadata": {
    "colab": {
      "name": "Week2 - Stock Prediction.ipynb",
      "version": "0.3.2",
      "provenance": []
    },
    "kernelspec": {
      "name": "python3",
      "display_name": "Python 3"
    }
  },
  "cells": [
    {
      "cell_type": "markdown",
      "metadata": {
        "id": "VWUysjuQuYB2",
        "colab_type": "text"
      },
      "source": [
        "# Week 2 - **Finance**\n"
      ]
    },
    {
      "cell_type": "markdown",
      "metadata": {
        "id": "p_BULhrEG-Mq",
        "colab_type": "text"
      },
      "source": [
        "# *Import Libraries and Data*"
      ]
    },
    {
      "cell_type": "code",
      "metadata": {
        "id": "mNT_PNxgt4JI",
        "colab_type": "code",
        "colab": {}
      },
      "source": [
        "# import basic libraries.\n",
        "\n",
        "import numpy as np  # numeric\n",
        "import pandas as pd # dataframes\n",
        "%matplotlib inline\n",
        "import matplotlib.pyplot as plot #plot data\n",
        "from matplotlib import style\n",
        "import seaborn as sns # another library to plot data\n",
        "import datetime as date\n",
        "import math as math\n",
        "from sklearn import preprocessing\n",
        "\n"
      ],
      "execution_count": 0,
      "outputs": []
    },
    {
      "cell_type": "code",
      "metadata": {
        "id": "EXI8CNzO8Tmd",
        "colab_type": "code",
        "colab": {}
      },
      "source": [
        "# allow data from yahoo API\n",
        "\n",
        "!pip install yfinance --upgrade --no-cache-dir"
      ],
      "execution_count": 0,
      "outputs": []
    },
    {
      "cell_type": "code",
      "metadata": {
        "id": "n_t7uo4M7jb5",
        "colab_type": "code",
        "colab": {}
      },
      "source": [
        "# import data from yahoo finance\n",
        "from pandas_datareader import data as preader\n",
        "import fix_yahoo_finance as yahoo\n"
      ],
      "execution_count": 0,
      "outputs": []
    },
    {
      "cell_type": "code",
      "metadata": {
        "id": "7ouVBSIt74ep",
        "colab_type": "code",
        "colab": {}
      },
      "source": [
        "# Allow to connect the GoogleDrive to this notebook\n",
        "from google.colab import drive\n",
        "drive.mount('drive',force_remount=True)\n"
      ],
      "execution_count": 0,
      "outputs": []
    },
    {
      "cell_type": "code",
      "metadata": {
        "id": "d-jjzSse--Dq",
        "colab_type": "code",
        "outputId": "64081b8e-15b1-4758-c85e-4194ea3afe73",
        "colab": {
          "base_uri": "https://localhost:8080/",
          "height": 301
        }
      },
      "source": [
        "# start and end date analysis\n",
        "start_date = date.date(2015,1,1)\n",
        "end_date = date.date(2019,1,1)\n",
        "\n",
        "yahoo.pdr_override()\n",
        "df_yahoo = preader.get_data_yahoo('JPM', start_date, end_date).reset_index()\n",
        "df_yahoo.to_csv('JPM.csv', index=False) \n",
        "df_yahoo.describe()"
      ],
      "execution_count": 6,
      "outputs": [
        {
          "output_type": "stream",
          "text": [
            "[*********************100%***********************]  1 of 1 downloaded\n"
          ],
          "name": "stdout"
        },
        {
          "output_type": "execute_result",
          "data": {
            "text/html": [
              "<div>\n",
              "<style scoped>\n",
              "    .dataframe tbody tr th:only-of-type {\n",
              "        vertical-align: middle;\n",
              "    }\n",
              "\n",
              "    .dataframe tbody tr th {\n",
              "        vertical-align: top;\n",
              "    }\n",
              "\n",
              "    .dataframe thead th {\n",
              "        text-align: right;\n",
              "    }\n",
              "</style>\n",
              "<table border=\"1\" class=\"dataframe\">\n",
              "  <thead>\n",
              "    <tr style=\"text-align: right;\">\n",
              "      <th></th>\n",
              "      <th>Open</th>\n",
              "      <th>High</th>\n",
              "      <th>Low</th>\n",
              "      <th>Close</th>\n",
              "      <th>Adj Close</th>\n",
              "      <th>Volume</th>\n",
              "    </tr>\n",
              "  </thead>\n",
              "  <tbody>\n",
              "    <tr>\n",
              "      <th>count</th>\n",
              "      <td>1006.000000</td>\n",
              "      <td>1006.000000</td>\n",
              "      <td>1006.000000</td>\n",
              "      <td>1006.000000</td>\n",
              "      <td>1006.000000</td>\n",
              "      <td>1.006000e+03</td>\n",
              "    </tr>\n",
              "    <tr>\n",
              "      <th>mean</th>\n",
              "      <td>83.024453</td>\n",
              "      <td>83.696909</td>\n",
              "      <td>82.324413</td>\n",
              "      <td>83.009861</td>\n",
              "      <td>77.874333</td>\n",
              "      <td>1.551454e+07</td>\n",
              "    </tr>\n",
              "    <tr>\n",
              "      <th>std</th>\n",
              "      <td>20.403937</td>\n",
              "      <td>20.568895</td>\n",
              "      <td>20.223518</td>\n",
              "      <td>20.359879</td>\n",
              "      <td>21.343376</td>\n",
              "      <td>6.035127e+06</td>\n",
              "    </tr>\n",
              "    <tr>\n",
              "      <th>min</th>\n",
              "      <td>53.900002</td>\n",
              "      <td>53.910000</td>\n",
              "      <td>50.070000</td>\n",
              "      <td>53.070000</td>\n",
              "      <td>48.080933</td>\n",
              "      <td>3.680000e+06</td>\n",
              "    </tr>\n",
              "    <tr>\n",
              "      <th>25%</th>\n",
              "      <td>63.939999</td>\n",
              "      <td>64.357498</td>\n",
              "      <td>63.572501</td>\n",
              "      <td>64.040001</td>\n",
              "      <td>58.261119</td>\n",
              "      <td>1.171372e+07</td>\n",
              "    </tr>\n",
              "    <tr>\n",
              "      <th>50%</th>\n",
              "      <td>84.220001</td>\n",
              "      <td>85.255001</td>\n",
              "      <td>83.799999</td>\n",
              "      <td>84.430001</td>\n",
              "      <td>79.031639</td>\n",
              "      <td>1.405950e+07</td>\n",
              "    </tr>\n",
              "    <tr>\n",
              "      <th>75%</th>\n",
              "      <td>104.097498</td>\n",
              "      <td>105.165001</td>\n",
              "      <td>102.910004</td>\n",
              "      <td>103.727502</td>\n",
              "      <td>100.110365</td>\n",
              "      <td>1.760562e+07</td>\n",
              "    </tr>\n",
              "    <tr>\n",
              "      <th>max</th>\n",
              "      <td>119.129997</td>\n",
              "      <td>119.330002</td>\n",
              "      <td>118.080002</td>\n",
              "      <td>118.769997</td>\n",
              "      <td>115.153419</td>\n",
              "      <td>5.619230e+07</td>\n",
              "    </tr>\n",
              "  </tbody>\n",
              "</table>\n",
              "</div>"
            ],
            "text/plain": [
              "              Open         High  ...    Adj Close        Volume\n",
              "count  1006.000000  1006.000000  ...  1006.000000  1.006000e+03\n",
              "mean     83.024453    83.696909  ...    77.874333  1.551454e+07\n",
              "std      20.403937    20.568895  ...    21.343376  6.035127e+06\n",
              "min      53.900002    53.910000  ...    48.080933  3.680000e+06\n",
              "25%      63.939999    64.357498  ...    58.261119  1.171372e+07\n",
              "50%      84.220001    85.255001  ...    79.031639  1.405950e+07\n",
              "75%     104.097498   105.165001  ...   100.110365  1.760562e+07\n",
              "max     119.129997   119.330002  ...   115.153419  5.619230e+07\n",
              "\n",
              "[8 rows x 6 columns]"
            ]
          },
          "metadata": {
            "tags": []
          },
          "execution_count": 6
        }
      ]
    },
    {
      "cell_type": "code",
      "metadata": {
        "id": "EBnHK-bSXraN",
        "colab_type": "code",
        "outputId": "df289be7-9a07-48e1-a1f4-99437551a9e9",
        "colab": {
          "base_uri": "https://localhost:8080/",
          "height": 343
        }
      },
      "source": [
        "df_yahoo.tail(10)"
      ],
      "execution_count": 7,
      "outputs": [
        {
          "output_type": "execute_result",
          "data": {
            "text/html": [
              "<div>\n",
              "<style scoped>\n",
              "    .dataframe tbody tr th:only-of-type {\n",
              "        vertical-align: middle;\n",
              "    }\n",
              "\n",
              "    .dataframe tbody tr th {\n",
              "        vertical-align: top;\n",
              "    }\n",
              "\n",
              "    .dataframe thead th {\n",
              "        text-align: right;\n",
              "    }\n",
              "</style>\n",
              "<table border=\"1\" class=\"dataframe\">\n",
              "  <thead>\n",
              "    <tr style=\"text-align: right;\">\n",
              "      <th></th>\n",
              "      <th>Date</th>\n",
              "      <th>Open</th>\n",
              "      <th>High</th>\n",
              "      <th>Low</th>\n",
              "      <th>Close</th>\n",
              "      <th>Adj Close</th>\n",
              "      <th>Volume</th>\n",
              "    </tr>\n",
              "  </thead>\n",
              "  <tbody>\n",
              "    <tr>\n",
              "      <th>996</th>\n",
              "      <td>2018-12-17</td>\n",
              "      <td>99.769997</td>\n",
              "      <td>100.559998</td>\n",
              "      <td>98.440002</td>\n",
              "      <td>99.010002</td>\n",
              "      <td>96.781433</td>\n",
              "      <td>25113500</td>\n",
              "    </tr>\n",
              "    <tr>\n",
              "      <th>997</th>\n",
              "      <td>2018-12-18</td>\n",
              "      <td>99.419998</td>\n",
              "      <td>100.889999</td>\n",
              "      <td>98.120003</td>\n",
              "      <td>98.540001</td>\n",
              "      <td>96.322014</td>\n",
              "      <td>20837200</td>\n",
              "    </tr>\n",
              "    <tr>\n",
              "      <th>998</th>\n",
              "      <td>2018-12-19</td>\n",
              "      <td>98.410004</td>\n",
              "      <td>100.580002</td>\n",
              "      <td>96.599998</td>\n",
              "      <td>97.290001</td>\n",
              "      <td>95.100151</td>\n",
              "      <td>28767900</td>\n",
              "    </tr>\n",
              "    <tr>\n",
              "      <th>999</th>\n",
              "      <td>2018-12-20</td>\n",
              "      <td>96.610001</td>\n",
              "      <td>98.279999</td>\n",
              "      <td>95.690002</td>\n",
              "      <td>96.449997</td>\n",
              "      <td>94.279053</td>\n",
              "      <td>31825200</td>\n",
              "    </tr>\n",
              "    <tr>\n",
              "      <th>1000</th>\n",
              "      <td>2018-12-21</td>\n",
              "      <td>96.680000</td>\n",
              "      <td>98.430000</td>\n",
              "      <td>93.690002</td>\n",
              "      <td>94.169998</td>\n",
              "      <td>92.050377</td>\n",
              "      <td>41313900</td>\n",
              "    </tr>\n",
              "    <tr>\n",
              "      <th>1001</th>\n",
              "      <td>2018-12-24</td>\n",
              "      <td>92.889999</td>\n",
              "      <td>94.220001</td>\n",
              "      <td>92.139999</td>\n",
              "      <td>92.139999</td>\n",
              "      <td>90.066071</td>\n",
              "      <td>17009300</td>\n",
              "    </tr>\n",
              "    <tr>\n",
              "      <th>1002</th>\n",
              "      <td>2018-12-26</td>\n",
              "      <td>92.690002</td>\n",
              "      <td>95.959999</td>\n",
              "      <td>91.110001</td>\n",
              "      <td>95.959999</td>\n",
              "      <td>93.800095</td>\n",
              "      <td>22542900</td>\n",
              "    </tr>\n",
              "    <tr>\n",
              "      <th>1003</th>\n",
              "      <td>2018-12-27</td>\n",
              "      <td>94.820000</td>\n",
              "      <td>97.150002</td>\n",
              "      <td>93.550003</td>\n",
              "      <td>97.040001</td>\n",
              "      <td>94.855774</td>\n",
              "      <td>20304700</td>\n",
              "    </tr>\n",
              "    <tr>\n",
              "      <th>1004</th>\n",
              "      <td>2018-12-28</td>\n",
              "      <td>97.949997</td>\n",
              "      <td>98.320000</td>\n",
              "      <td>96.440002</td>\n",
              "      <td>96.830002</td>\n",
              "      <td>94.650513</td>\n",
              "      <td>17963300</td>\n",
              "    </tr>\n",
              "    <tr>\n",
              "      <th>1005</th>\n",
              "      <td>2018-12-31</td>\n",
              "      <td>97.589996</td>\n",
              "      <td>98.809998</td>\n",
              "      <td>96.769997</td>\n",
              "      <td>97.620003</td>\n",
              "      <td>95.422729</td>\n",
              "      <td>13237200</td>\n",
              "    </tr>\n",
              "  </tbody>\n",
              "</table>\n",
              "</div>"
            ],
            "text/plain": [
              "           Date       Open        High  ...      Close  Adj Close    Volume\n",
              "996  2018-12-17  99.769997  100.559998  ...  99.010002  96.781433  25113500\n",
              "997  2018-12-18  99.419998  100.889999  ...  98.540001  96.322014  20837200\n",
              "998  2018-12-19  98.410004  100.580002  ...  97.290001  95.100151  28767900\n",
              "999  2018-12-20  96.610001   98.279999  ...  96.449997  94.279053  31825200\n",
              "1000 2018-12-21  96.680000   98.430000  ...  94.169998  92.050377  41313900\n",
              "1001 2018-12-24  92.889999   94.220001  ...  92.139999  90.066071  17009300\n",
              "1002 2018-12-26  92.690002   95.959999  ...  95.959999  93.800095  22542900\n",
              "1003 2018-12-27  94.820000   97.150002  ...  97.040001  94.855774  20304700\n",
              "1004 2018-12-28  97.949997   98.320000  ...  96.830002  94.650513  17963300\n",
              "1005 2018-12-31  97.589996   98.809998  ...  97.620003  95.422729  13237200\n",
              "\n",
              "[10 rows x 7 columns]"
            ]
          },
          "metadata": {
            "tags": []
          },
          "execution_count": 7
        }
      ]
    },
    {
      "cell_type": "markdown",
      "metadata": {
        "id": "bws2tyucGcUy",
        "colab_type": "text"
      },
      "source": [
        "***How the data lookslike***\n"
      ]
    },
    {
      "cell_type": "code",
      "metadata": {
        "id": "IuOjlNtCGhiv",
        "colab_type": "code",
        "colab": {}
      },
      "source": [
        "\n",
        "# days average: smooth the data creating a average price in n days (example: 50)\n",
        "df_reduce_dim = df_yahoo[\"Adj Close\"]\n",
        "\n",
        "# Drop the missing values:\n",
        "df_reduce_dim.dropna()\n",
        "\n",
        "\n",
        "df_avg = df_reduce_dim.rolling(window=50).mean()\n"
      ],
      "execution_count": 0,
      "outputs": []
    },
    {
      "cell_type": "code",
      "metadata": {
        "id": "NWKpVVW-MNYC",
        "colab_type": "code",
        "colab": {
          "base_uri": "https://localhost:8080/",
          "height": 168
        },
        "outputId": "ddd5f117-5370-4b3a-defe-18575148b66d"
      },
      "source": [
        "df_reduce_dim.describe()"
      ],
      "execution_count": 9,
      "outputs": [
        {
          "output_type": "execute_result",
          "data": {
            "text/plain": [
              "count    1006.000000\n",
              "mean       77.874333\n",
              "std        21.343376\n",
              "min        48.080933\n",
              "25%        58.261119\n",
              "50%        79.031639\n",
              "75%       100.110365\n",
              "max       115.153419\n",
              "Name: Adj Close, dtype: float64"
            ]
          },
          "metadata": {
            "tags": []
          },
          "execution_count": 9
        }
      ]
    },
    {
      "cell_type": "code",
      "metadata": {
        "id": "-OzLixNnMx1U",
        "colab_type": "code",
        "colab": {
          "base_uri": "https://localhost:8080/",
          "height": 168
        },
        "outputId": "c349cdcf-a347-4989-828a-e96c92a38e81"
      },
      "source": [
        "df_avg.describe()"
      ],
      "execution_count": 10,
      "outputs": [
        {
          "output_type": "execute_result",
          "data": {
            "text/plain": [
              "count    957.000000\n",
              "mean      77.965580\n",
              "std       20.949489\n",
              "min       52.049950\n",
              "25%       57.966782\n",
              "50%       78.966143\n",
              "75%      100.132331\n",
              "max      111.909319\n",
              "Name: Adj Close, dtype: float64"
            ]
          },
          "metadata": {
            "tags": []
          },
          "execution_count": 10
        }
      ]
    },
    {
      "cell_type": "code",
      "metadata": {
        "id": "cblIV_85Je1q",
        "colab_type": "code",
        "outputId": "a44a0e4e-26f2-45d4-dede-6ffab9627b79",
        "colab": {
          "base_uri": "https://localhost:8080/",
          "height": 118
        }
      },
      "source": [
        "df_avg.tail(5)"
      ],
      "execution_count": 11,
      "outputs": [
        {
          "output_type": "execute_result",
          "data": {
            "text/plain": [
              "1001    103.674121\n",
              "1002    103.459269\n",
              "1003    103.277455\n",
              "1004    103.046963\n",
              "1005    102.808259\n",
              "Name: Adj Close, dtype: float64"
            ]
          },
          "metadata": {
            "tags": []
          },
          "execution_count": 11
        }
      ]
    },
    {
      "cell_type": "code",
      "metadata": {
        "id": "PLGa9X3XKDrq",
        "colab_type": "code",
        "outputId": "d7aebcf6-4e8c-430e-a442-6dcde8a2db15",
        "colab": {
          "base_uri": "https://localhost:8080/",
          "height": 286
        }
      },
      "source": [
        "# a view from the data and his average\n",
        "df_reduce_dim.plot(label='JPM')\n",
        "df_avg.plot(label='Avg_50')\n",
        "plot.legend()"
      ],
      "execution_count": 12,
      "outputs": [
        {
          "output_type": "execute_result",
          "data": {
            "text/plain": [
              "<matplotlib.legend.Legend at 0x7f4009722940>"
            ]
          },
          "metadata": {
            "tags": []
          },
          "execution_count": 12
        },
        {
          "output_type": "display_data",
          "data": {
            "image/png": "[encoded data removed]",
            "text/plain": [
              "<Figure size 432x288 with 1 Axes>"
            ]
          },
          "metadata": {
            "tags": []
          }
        }
      ]
    },
    {
      "cell_type": "markdown",
      "metadata": {
        "id": "br4nWWIOYevS",
        "colab_type": "text"
      },
      "source": [
        "# *Data Pre-Processing*"
      ]
    },
    {
      "cell_type": "code",
      "metadata": {
        "id": "Il0sj2KAYhHa",
        "colab_type": "code",
        "outputId": "99032d58-da97-4d95-9468-f3291269b58f",
        "colab": {
          "base_uri": "https://localhost:8080/",
          "height": 195
        }
      },
      "source": [
        "\n",
        "# reduce dimension to:\n",
        "df_model = df_yahoo.loc[:,[\"Adj Close\",\"Volume\"]]\n",
        "\n",
        "# add some features:\n",
        "df_model[\"hl_p\"] = (df_yahoo[\"High\"] - df_yahoo[\"Low\"]) / df_yahoo[\"Close\"] * 100.0 # high and low in same the day.\n",
        "df_model[\"co_p\"] = (df_yahoo[\"Close\"] - df_yahoo[\"Open\"]) / df_yahoo[\"Open\"] * 100.0 # open and close in the same day.\n",
        "df_model.head()\n"
      ],
      "execution_count": 13,
      "outputs": [
        {
          "output_type": "execute_result",
          "data": {
            "text/html": [
              "<div>\n",
              "<style scoped>\n",
              "    .dataframe tbody tr th:only-of-type {\n",
              "        vertical-align: middle;\n",
              "    }\n",
              "\n",
              "    .dataframe tbody tr th {\n",
              "        vertical-align: top;\n",
              "    }\n",
              "\n",
              "    .dataframe thead th {\n",
              "        text-align: right;\n",
              "    }\n",
              "</style>\n",
              "<table border=\"1\" class=\"dataframe\">\n",
              "  <thead>\n",
              "    <tr style=\"text-align: right;\">\n",
              "      <th></th>\n",
              "      <th>Adj Close</th>\n",
              "      <th>Volume</th>\n",
              "      <th>hl_p</th>\n",
              "      <th>co_p</th>\n",
              "    </tr>\n",
              "  </thead>\n",
              "  <tbody>\n",
              "    <tr>\n",
              "      <th>0</th>\n",
              "      <td>55.251518</td>\n",
              "      <td>12600000</td>\n",
              "      <td>1.424226</td>\n",
              "      <td>0.498556</td>\n",
              "    </tr>\n",
              "    <tr>\n",
              "      <th>1</th>\n",
              "      <td>53.536236</td>\n",
              "      <td>20100600</td>\n",
              "      <td>3.385630</td>\n",
              "      <td>-2.433132</td>\n",
              "    </tr>\n",
              "    <tr>\n",
              "      <th>2</th>\n",
              "      <td>52.148098</td>\n",
              "      <td>29074100</td>\n",
              "      <td>4.069179</td>\n",
              "      <td>-2.737465</td>\n",
              "    </tr>\n",
              "    <tr>\n",
              "      <th>3</th>\n",
              "      <td>52.227676</td>\n",
              "      <td>23843200</td>\n",
              "      <td>2.065348</td>\n",
              "      <td>-1.369175</td>\n",
              "    </tr>\n",
              "    <tr>\n",
              "      <th>4</th>\n",
              "      <td>53.394768</td>\n",
              "      <td>16971100</td>\n",
              "      <td>1.539992</td>\n",
              "      <td>0.700347</td>\n",
              "    </tr>\n",
              "  </tbody>\n",
              "</table>\n",
              "</div>"
            ],
            "text/plain": [
              "   Adj Close    Volume      hl_p      co_p\n",
              "0  55.251518  12600000  1.424226  0.498556\n",
              "1  53.536236  20100600  3.385630 -2.433132\n",
              "2  52.148098  29074100  4.069179 -2.737465\n",
              "3  52.227676  23843200  2.065348 -1.369175\n",
              "4  53.394768  16971100  1.539992  0.700347"
            ]
          },
          "metadata": {
            "tags": []
          },
          "execution_count": 13
        }
      ]
    },
    {
      "cell_type": "code",
      "metadata": {
        "id": "UYJdpGIwaYav",
        "colab_type": "code",
        "colab": {}
      },
      "source": [
        "# forecast the 3 % of the total days\n",
        "forecast_3porc = int(math.ceil(0.03 * len(df_model)))"
      ],
      "execution_count": 0,
      "outputs": []
    },
    {
      "cell_type": "code",
      "metadata": {
        "id": "AUQeu-LGVI9h",
        "colab_type": "code",
        "colab": {}
      },
      "source": [
        "# the column to forecast:\n",
        "forecast_column = 'Adj Close'\n",
        "df_model['label'] = df_model[forecast_column].shift(-forecast_3porc) # \n",
        "\n",
        "# separate the data to preprocessing\n",
        "X = np.array(df_model.drop(['label'],1))"
      ],
      "execution_count": 0,
      "outputs": []
    },
    {
      "cell_type": "code",
      "metadata": {
        "id": "Y2x01LrAWtff",
        "colab_type": "code",
        "colab": {
          "base_uri": "https://localhost:8080/",
          "height": 50
        },
        "outputId": "2d6524a2-d072-4394-e67d-32e0efe5902e"
      },
      "source": [
        "\n",
        "# preprocessing scale: Scale the X so that everyone can have the same distribution for linear regression\n",
        "X = preprocessing.scale(X)\n",
        "\n",
        "# Finally We want to find Data Series of late X and early X (train) for model generation and evaluation\n",
        "X_lately = X[-forecast_3porc:]\n",
        "X = X[:-forecast_3porc]\n",
        "\n",
        "# Separate label and identify it as y\n",
        "y = np.array(df_model['label'])\n",
        "y = y[:-forecast_3porc]\n",
        "\n",
        "print('Dimension of X',X.shape)\n",
        "print('Dimension of y',y.shape)\n"
      ],
      "execution_count": 26,
      "outputs": [
        {
          "output_type": "stream",
          "text": [
            "Dimension of X (975, 4)\n",
            "Dimension of y (975,)\n"
          ],
          "name": "stdout"
        }
      ]
    },
    {
      "cell_type": "markdown",
      "metadata": {
        "id": "yL_PUL-xaRwH",
        "colab_type": "text"
      },
      "source": [
        "**The predict Model**"
      ]
    },
    {
      "cell_type": "code",
      "metadata": {
        "id": "95RaeEPqZ-sd",
        "colab_type": "code",
        "colab": {}
      },
      "source": [
        "\n",
        "# Basic libraries\n",
        "from sklearn.linear_model import LinearRegression\n",
        "from sklearn.neighbors import KNeighborsRegressor\n",
        "from sklearn.linear_model import Ridge\n",
        "from sklearn.preprocessing import PolynomialFeatures\n",
        "from sklearn.pipeline import make_pipeline\n",
        "# splitting the train and test sets\n",
        "from sklearn.model_selection import train_test_split \n",
        "X_train, X_test, y_train, y_test = train_test_split(X, y, test_size=0.2)\n",
        "from sklearn import metrics"
      ],
      "execution_count": 0,
      "outputs": []
    },
    {
      "cell_type": "code",
      "metadata": {
        "id": "2Z62DAOFadJx",
        "colab_type": "code",
        "colab": {}
      },
      "source": [
        "# function to plot the results:\n",
        "def fun_plot(model_prediction):\n",
        "  plot.scatter(model_prediction, y_test, color=\"green\")\n",
        "  plot.plot(y_test, y_test, color='blue', linewidth=3)"
      ],
      "execution_count": 0,
      "outputs": []
    },
    {
      "cell_type": "code",
      "metadata": {
        "id": "UxkjQJwxcTiL",
        "colab_type": "code",
        "colab": {}
      },
      "source": [
        "# funtion to calculate the performance metrics:\n",
        "def fun_metrics(model_prediction):\n",
        "  #Function returns standard performance metrics\n",
        "  print('Mean Absolute Error:', metrics.mean_absolute_error(y_test, model_prediction).round(4))  \n",
        "  print('Mean Squared Error:', metrics.mean_squared_error(y_test, model_prediction).round(4))  \n",
        "  print('Root Mean Squared Error:', np.sqrt(metrics.mean_squared_error(y_test, model_prediction)).round(4))\n"
      ],
      "execution_count": 0,
      "outputs": []
    },
    {
      "cell_type": "code",
      "metadata": {
        "id": "I906nXXadWqa",
        "colab_type": "code",
        "colab": {
          "base_uri": "https://localhost:8080/",
          "height": 353
        },
        "outputId": "dbd77622-6965-4c3a-9c80-bc3392213011"
      },
      "source": [
        "# Linear Regression:\n",
        "\n",
        "LR_model = LinearRegression()\n",
        "LR_model.fit(X_train, y_train)\n",
        "Y_LR_predict = LR_model.predict(X_test)\n",
        "print(\"Linear Regression\")\n",
        "fun_plot(Y_LR_predict)\n",
        "fun_metrics(Y_LR_predict)\n",
        "print('Confidence :', LR_model.score(X_test, y_test))\n",
        "  \n",
        "  "
      ],
      "execution_count": 47,
      "outputs": [
        {
          "output_type": "stream",
          "text": [
            "Linear Regression\n",
            "Mean Absolute Error: 3.5595\n",
            "Mean Squared Error: 22.1793\n",
            "Root Mean Squared Error: 4.7095\n",
            "Confidence : 0.9496684450350156\n"
          ],
          "name": "stdout"
        },
        {
          "output_type": "display_data",
          "data": {
            "image/png": "[encoded data removed]",
            "text/plain": [
              "<Figure size 432x288 with 1 Axes>"
            ]
          },
          "metadata": {
            "tags": []
          }
        }
      ]
    },
    {
      "cell_type": "code",
      "metadata": {
        "id": "xVYTbY2Mfp7A",
        "colab_type": "code",
        "colab": {
          "base_uri": "https://localhost:8080/",
          "height": 353
        },
        "outputId": "fc61465f-e331-40e9-b2b6-a02a49781e45"
      },
      "source": [
        "# Quadratic Regression Ridge\n",
        "\n",
        "QR_model = make_pipeline(PolynomialFeatures(2), Ridge())\n",
        "QR_model.fit(X_train, y_train)\n",
        "Y_QR_predict = QR_model.predict(X_test)\n",
        "print(\"Quadratic Regression Ridge\")\n",
        "fun_plot(Y_QR_predict)\n",
        "fun_metrics(Y_QR_predict)\n",
        "print('Confidence :', QR_model.score(X_test, y_test))\n",
        "  "
      ],
      "execution_count": 48,
      "outputs": [
        {
          "output_type": "stream",
          "text": [
            "Quadratic Regression Ridge\n",
            "Mean Absolute Error: 3.6715\n",
            "Mean Squared Error: 21.9635\n",
            "Root Mean Squared Error: 4.6865\n",
            "Confidence : 0.9501582586018985\n"
          ],
          "name": "stdout"
        },
        {
          "output_type": "display_data",
          "data": {
            "image/png": "[encoded data removed]",
            "text/plain": [
              "<Figure size 432x288 with 1 Axes>"
            ]
          },
          "metadata": {
            "tags": []
          }
        }
      ]
    },
    {
      "cell_type": "code",
      "metadata": {
        "id": "3F4FKdNdgLAP",
        "colab_type": "code",
        "colab": {
          "base_uri": "https://localhost:8080/",
          "height": 353
        },
        "outputId": "80d50af7-d11d-4d3c-907e-ad3cc385e254"
      },
      "source": [
        "# KNN Regression\n",
        "KNN_model = KNeighborsRegressor(n_neighbors=2)\n",
        "KNN_model.fit(X_train, y_train)\n",
        "Y_KNN_predict = KNN_model.predict(X_test)\n",
        "print(\"K Nearest Neighbor\")\n",
        "fun_plot(Y_KNN_predict)\n",
        "fun_metrics(Y_KNN_predict)\n",
        "print('Confidence :', KNN_model.score(X_test, y_test))\n"
      ],
      "execution_count": 49,
      "outputs": [
        {
          "output_type": "stream",
          "text": [
            "K Nearest Neighbor\n",
            "Mean Absolute Error: 3.8216\n",
            "Mean Squared Error: 31.2229\n",
            "Root Mean Squared Error: 5.5877\n",
            "Confidence : 0.9291458399350466\n"
          ],
          "name": "stdout"
        },
        {
          "output_type": "display_data",
          "data": {
            "image/png": "[encoded data removed]",
            "text/plain": [
              "<Figure size 432x288 with 1 Axes>"
            ]
          },
          "metadata": {
            "tags": []
          }
        }
      ]
    },
    {
      "cell_type": "code",
      "metadata": {
        "id": "EKbsLvNBgs14",
        "colab_type": "code",
        "colab": {}
      },
      "source": [
        ""
      ],
      "execution_count": 0,
      "outputs": []
    }
  ]
}